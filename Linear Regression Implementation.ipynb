{
 "cells": [
  {
   "cell_type": "markdown",
   "id": "99480eae",
   "metadata": {},
   "source": [
    "# Performing Linear Regression(with and without using Scikit-Learn)"
   ]
  },
  {
   "cell_type": "markdown",
   "id": "720dcd0b",
   "metadata": {},
   "source": [
    "In this notebook, we'll see how to build a Linear Regression algorithm with and without using Scikit-Learn and then compare the differences."
   ]
  },
  {
   "cell_type": "markdown",
   "id": "1cd830a8",
   "metadata": {},
   "source": [
    "We'll use our mathematical intuition and using the formulae derived for the parameters (w and b), we'll build a class and add some functions that will perform our Linear Regression"
   ]
  },
  {
   "cell_type": "markdown",
   "id": "22c1d2ef",
   "metadata": {},
   "source": [
    "The dataset loaded into the notebook is a dataset containing 1 feature and 1 target, So we'll apply Linear Regression in one variable."
   ]
  },
  {
   "cell_type": "code",
   "execution_count": 358,
   "id": "2765bbaf",
   "metadata": {},
   "outputs": [],
   "source": [
    "#Importing required libraries\n",
    "import numpy as np\n",
    "import pandas as pd\n",
    "import matplotlib.pyplot as plt"
   ]
  },
  {
   "cell_type": "code",
   "execution_count": 359,
   "id": "873231e8",
   "metadata": {},
   "outputs": [],
   "source": [
    "#Loading the dataset\n",
    "df = pd.read_csv('placement.csv')"
   ]
  },
  {
   "cell_type": "code",
   "execution_count": 360,
   "id": "0cef9dfa",
   "metadata": {},
   "outputs": [
    {
     "data": {
      "text/html": [
       "<div>\n",
       "<style scoped>\n",
       "    .dataframe tbody tr th:only-of-type {\n",
       "        vertical-align: middle;\n",
       "    }\n",
       "\n",
       "    .dataframe tbody tr th {\n",
       "        vertical-align: top;\n",
       "    }\n",
       "\n",
       "    .dataframe thead th {\n",
       "        text-align: right;\n",
       "    }\n",
       "</style>\n",
       "<table border=\"1\" class=\"dataframe\">\n",
       "  <thead>\n",
       "    <tr style=\"text-align: right;\">\n",
       "      <th></th>\n",
       "      <th>cgpa</th>\n",
       "      <th>package</th>\n",
       "    </tr>\n",
       "  </thead>\n",
       "  <tbody>\n",
       "    <tr>\n",
       "      <th>37</th>\n",
       "      <td>5.90</td>\n",
       "      <td>2.43</td>\n",
       "    </tr>\n",
       "    <tr>\n",
       "      <th>5</th>\n",
       "      <td>7.89</td>\n",
       "      <td>2.99</td>\n",
       "    </tr>\n",
       "    <tr>\n",
       "      <th>98</th>\n",
       "      <td>7.69</td>\n",
       "      <td>3.83</td>\n",
       "    </tr>\n",
       "    <tr>\n",
       "      <th>95</th>\n",
       "      <td>6.63</td>\n",
       "      <td>2.79</td>\n",
       "    </tr>\n",
       "    <tr>\n",
       "      <th>128</th>\n",
       "      <td>7.93</td>\n",
       "      <td>3.34</td>\n",
       "    </tr>\n",
       "  </tbody>\n",
       "</table>\n",
       "</div>"
      ],
      "text/plain": [
       "     cgpa  package\n",
       "37   5.90     2.43\n",
       "5    7.89     2.99\n",
       "98   7.69     3.83\n",
       "95   6.63     2.79\n",
       "128  7.93     3.34"
      ]
     },
     "execution_count": 360,
     "metadata": {},
     "output_type": "execute_result"
    }
   ],
   "source": [
    "#Looking at the dataset\n",
    "df.sample(5)"
   ]
  },
  {
   "cell_type": "code",
   "execution_count": 361,
   "id": "26ef167a",
   "metadata": {},
   "outputs": [
    {
     "data": {
      "text/plain": [
       "(200, 2)"
      ]
     },
     "execution_count": 361,
     "metadata": {},
     "output_type": "execute_result"
    }
   ],
   "source": [
    "#looking at the shape of the dataset\n",
    "df.shape"
   ]
  },
  {
   "cell_type": "code",
   "execution_count": 362,
   "id": "ca2f1a2f",
   "metadata": {},
   "outputs": [
    {
     "data": {
      "text/html": [
       "<div>\n",
       "<style scoped>\n",
       "    .dataframe tbody tr th:only-of-type {\n",
       "        vertical-align: middle;\n",
       "    }\n",
       "\n",
       "    .dataframe tbody tr th {\n",
       "        vertical-align: top;\n",
       "    }\n",
       "\n",
       "    .dataframe thead th {\n",
       "        text-align: right;\n",
       "    }\n",
       "</style>\n",
       "<table border=\"1\" class=\"dataframe\">\n",
       "  <thead>\n",
       "    <tr style=\"text-align: right;\">\n",
       "      <th></th>\n",
       "      <th>cgpa</th>\n",
       "      <th>package</th>\n",
       "    </tr>\n",
       "  </thead>\n",
       "  <tbody>\n",
       "    <tr>\n",
       "      <th>count</th>\n",
       "      <td>200.000000</td>\n",
       "      <td>200.000000</td>\n",
       "    </tr>\n",
       "    <tr>\n",
       "      <th>mean</th>\n",
       "      <td>6.990500</td>\n",
       "      <td>2.996050</td>\n",
       "    </tr>\n",
       "    <tr>\n",
       "      <th>std</th>\n",
       "      <td>1.069409</td>\n",
       "      <td>0.691644</td>\n",
       "    </tr>\n",
       "    <tr>\n",
       "      <th>min</th>\n",
       "      <td>4.260000</td>\n",
       "      <td>1.370000</td>\n",
       "    </tr>\n",
       "    <tr>\n",
       "      <th>25%</th>\n",
       "      <td>6.190000</td>\n",
       "      <td>2.487500</td>\n",
       "    </tr>\n",
       "    <tr>\n",
       "      <th>50%</th>\n",
       "      <td>6.965000</td>\n",
       "      <td>2.995000</td>\n",
       "    </tr>\n",
       "    <tr>\n",
       "      <th>75%</th>\n",
       "      <td>7.737500</td>\n",
       "      <td>3.492500</td>\n",
       "    </tr>\n",
       "    <tr>\n",
       "      <th>max</th>\n",
       "      <td>9.580000</td>\n",
       "      <td>4.620000</td>\n",
       "    </tr>\n",
       "  </tbody>\n",
       "</table>\n",
       "</div>"
      ],
      "text/plain": [
       "             cgpa     package\n",
       "count  200.000000  200.000000\n",
       "mean     6.990500    2.996050\n",
       "std      1.069409    0.691644\n",
       "min      4.260000    1.370000\n",
       "25%      6.190000    2.487500\n",
       "50%      6.965000    2.995000\n",
       "75%      7.737500    3.492500\n",
       "max      9.580000    4.620000"
      ]
     },
     "execution_count": 362,
     "metadata": {},
     "output_type": "execute_result"
    }
   ],
   "source": [
    "#Looking at the statistics of the dataset\n",
    "df.describe()"
   ]
  },
  {
   "cell_type": "markdown",
   "id": "73ad9045",
   "metadata": {},
   "source": [
    "### Dividing the dataset into Features and Targets"
   ]
  },
  {
   "cell_type": "code",
   "execution_count": 363,
   "id": "50d9137a",
   "metadata": {},
   "outputs": [],
   "source": [
    "X = df.iloc[:, 0].values #Loading features as numpy array"
   ]
  },
  {
   "cell_type": "code",
   "execution_count": 364,
   "id": "c1486568",
   "metadata": {},
   "outputs": [
    {
     "data": {
      "text/plain": [
       "array([6.89, 5.12, 7.82, 7.42, 6.94, 7.89, 6.73, 6.75, 6.09, 8.31, 5.32,\n",
       "       6.61, 8.94, 6.93, 7.73, 7.25, 6.84, 5.38, 6.94, 7.48, 7.28, 6.85,\n",
       "       6.14, 6.19, 6.53, 7.28, 8.31, 5.42, 5.94, 7.15, 7.36, 8.1 , 6.96,\n",
       "       6.35, 7.34, 6.87, 5.99, 5.9 , 8.62, 7.43, 9.38, 6.89, 5.95, 7.66,\n",
       "       5.09, 7.87, 6.07, 5.84, 8.63, 8.87, 9.58, 9.26, 8.37, 6.47, 6.86,\n",
       "       8.2 , 5.84, 6.6 , 6.92, 7.56, 5.61, 5.48, 6.34, 9.16, 7.36, 7.6 ,\n",
       "       5.11, 6.51, 7.56, 7.3 , 5.79, 7.47, 7.78, 8.44, 6.85, 6.97, 6.94,\n",
       "       8.99, 6.59, 7.18, 7.63, 6.1 , 5.58, 8.44, 4.26, 4.79, 7.61, 8.09,\n",
       "       4.73, 6.42, 7.11, 6.22, 7.9 , 6.79, 5.83, 6.63, 7.11, 5.98, 7.69,\n",
       "       6.61, 7.95, 6.71, 5.13, 7.05, 7.62, 6.66, 6.13, 6.33, 7.76, 7.77,\n",
       "       8.18, 5.42, 8.58, 6.94, 5.84, 8.35, 9.04, 7.12, 7.4 , 7.39, 5.23,\n",
       "       6.5 , 5.12, 5.1 , 6.06, 7.33, 5.91, 6.78, 7.93, 7.29, 6.68, 6.37,\n",
       "       5.84, 6.05, 7.2 , 6.1 , 5.64, 7.14, 7.91, 7.19, 7.91, 6.76, 6.93,\n",
       "       4.85, 6.17, 5.84, 6.07, 5.66, 7.57, 8.28, 6.3 , 6.12, 7.37, 7.94,\n",
       "       7.08, 6.98, 7.38, 6.47, 5.95, 8.71, 7.13, 7.3 , 5.53, 8.93, 9.06,\n",
       "       8.21, 8.6 , 8.13, 8.65, 9.31, 6.22, 8.01, 6.93, 6.75, 7.32, 7.04,\n",
       "       6.29, 7.09, 8.15, 7.14, 6.19, 8.22, 5.88, 7.28, 7.88, 6.31, 7.84,\n",
       "       6.26, 7.35, 8.11, 6.19, 7.28, 8.25, 4.57, 7.89, 6.93, 5.89, 7.21,\n",
       "       7.63, 6.22])"
      ]
     },
     "execution_count": 364,
     "metadata": {},
     "output_type": "execute_result"
    }
   ],
   "source": [
    "X"
   ]
  },
  {
   "cell_type": "code",
   "execution_count": 365,
   "id": "a99e0a02",
   "metadata": {},
   "outputs": [
    {
     "data": {
      "text/plain": [
       "numpy.ndarray"
      ]
     },
     "execution_count": 365,
     "metadata": {},
     "output_type": "execute_result"
    }
   ],
   "source": [
    "type(X)"
   ]
  },
  {
   "cell_type": "code",
   "execution_count": 366,
   "id": "9ffb52fb",
   "metadata": {},
   "outputs": [],
   "source": [
    "y = df.iloc[:,1].values #Loading target as numpy array"
   ]
  },
  {
   "cell_type": "code",
   "execution_count": 367,
   "id": "99b206db",
   "metadata": {},
   "outputs": [
    {
     "data": {
      "text/plain": [
       "array([3.26, 1.98, 3.25, 3.67, 3.57, 2.99, 2.6 , 2.48, 2.31, 3.51, 1.86,\n",
       "       2.6 , 3.65, 2.89, 3.42, 3.23, 2.35, 2.09, 2.98, 2.83, 3.16, 2.93,\n",
       "       2.3 , 2.48, 2.71, 3.65, 3.42, 2.16, 2.24, 3.49, 3.26, 3.89, 3.08,\n",
       "       2.73, 3.42, 2.87, 2.84, 2.43, 4.36, 3.33, 4.02, 2.7 , 2.54, 2.76,\n",
       "       1.86, 3.58, 2.26, 3.26, 4.09, 4.62, 4.43, 3.79, 4.11, 2.61, 3.09,\n",
       "       3.39, 2.74, 1.94, 3.09, 3.31, 2.19, 1.61, 2.09, 4.25, 2.92, 3.81,\n",
       "       1.63, 2.89, 2.99, 2.94, 2.35, 3.34, 3.62, 4.03, 3.44, 3.28, 3.15,\n",
       "       4.6 , 2.21, 3.  , 3.44, 2.2 , 2.17, 3.49, 1.53, 1.48, 2.77, 3.55,\n",
       "       1.48, 2.72, 2.66, 2.14, 4.  , 3.08, 2.42, 2.79, 2.61, 2.84, 3.83,\n",
       "       3.24, 4.14, 3.52, 1.37, 3.  , 3.74, 2.82, 2.19, 2.59, 3.54, 4.06,\n",
       "       3.76, 2.25, 4.1 , 2.37, 1.87, 4.21, 3.33, 2.99, 2.88, 2.65, 1.73,\n",
       "       3.02, 2.01, 2.3 , 2.31, 3.16, 2.6 , 3.11, 3.34, 3.12, 2.49, 2.01,\n",
       "       2.48, 2.58, 2.83, 2.6 , 2.1 , 3.13, 3.89, 2.4 , 3.15, 3.18, 3.04,\n",
       "       1.54, 2.42, 2.18, 2.46, 2.21, 3.4 , 3.67, 2.73, 2.76, 3.08, 3.99,\n",
       "       2.85, 3.09, 3.13, 2.7 , 3.04, 4.08, 2.93, 3.33, 2.55, 3.91, 3.82,\n",
       "       4.08, 3.98, 3.6 , 3.52, 4.37, 2.87, 3.76, 2.51, 2.56, 2.99, 3.5 ,\n",
       "       3.23, 3.64, 3.63, 3.03, 2.72, 3.89, 2.08, 2.72, 3.14, 3.18, 3.47,\n",
       "       2.44, 3.08, 4.06, 2.69, 3.48, 3.75, 1.94, 3.67, 2.46, 2.57, 3.24,\n",
       "       3.96, 2.33])"
      ]
     },
     "execution_count": 367,
     "metadata": {},
     "output_type": "execute_result"
    }
   ],
   "source": [
    "y"
   ]
  },
  {
   "cell_type": "markdown",
   "id": "410efa2a",
   "metadata": {},
   "source": [
    "### Splitting the dataset into training and testing set"
   ]
  },
  {
   "cell_type": "code",
   "execution_count": 368,
   "id": "703830d0",
   "metadata": {},
   "outputs": [],
   "source": [
    "from sklearn.model_selection import train_test_split"
   ]
  },
  {
   "cell_type": "code",
   "execution_count": 369,
   "id": "8b681cb3",
   "metadata": {},
   "outputs": [],
   "source": [
    "X_train, X_test, y_train, y_test = train_test_split(X,y, test_size=0.2, random_state=2)"
   ]
  },
  {
   "cell_type": "code",
   "execution_count": 370,
   "id": "c52b7336",
   "metadata": {},
   "outputs": [
    {
     "data": {
      "text/plain": [
       "'We can also split the dataset using slicing method. The below code sould be used:\\n\\n\\n'"
      ]
     },
     "execution_count": 370,
     "metadata": {},
     "output_type": "execute_result"
    }
   ],
   "source": [
    "'''We can also split the dataset using slicing method. The below code sould be used:\n",
    "\n",
    "\n",
    "'''"
   ]
  },
  {
   "cell_type": "code",
   "execution_count": 371,
   "id": "095a83f7",
   "metadata": {},
   "outputs": [
    {
     "data": {
      "text/plain": [
       "array([7.14, 8.93, 5.42, 5.1 , 7.77, 6.76, 6.89, 6.68, 7.91, 7.89, 8.71,\n",
       "       7.95, 6.61, 6.26, 6.53, 6.42, 5.11, 6.09, 6.93, 7.04, 5.94, 6.05,\n",
       "       5.83, 5.95, 9.31, 5.58, 7.88, 6.13, 7.76, 4.85, 6.19, 8.6 , 6.07,\n",
       "       7.18, 5.12, 7.39, 8.25, 8.28, 7.13, 7.35, 5.66, 5.99, 8.01, 7.14,\n",
       "       6.34, 6.89, 5.42, 6.47, 7.69, 7.4 , 7.28, 5.95, 7.38, 6.93, 8.99,\n",
       "       7.36, 7.08, 5.38, 7.56, 8.22, 5.84, 6.78, 7.19, 7.28, 6.79, 6.12,\n",
       "       6.85, 8.2 , 6.84, 7.37, 6.22, 6.61, 5.23, 7.21, 6.85, 6.19, 7.3 ,\n",
       "       6.17, 5.89, 8.09, 7.11, 4.26, 6.94, 5.98, 6.71, 7.33, 9.06, 6.1 ,\n",
       "       5.48, 6.1 , 7.56, 7.29, 5.84, 7.48, 7.61, 5.79, 5.61, 7.34, 9.38,\n",
       "       7.91, 6.94, 7.94, 8.31, 6.96, 6.93, 7.11, 8.44, 8.18, 6.66, 8.44,\n",
       "       7.12, 6.3 , 5.84, 6.98, 7.63, 5.64, 7.43, 8.87, 7.84, 5.84, 9.58,\n",
       "       8.37, 7.63, 6.31, 6.5 , 8.11, 6.07, 4.73, 7.3 , 6.51, 7.28, 6.92,\n",
       "       6.35, 8.62, 7.05, 9.26, 6.33, 6.22, 6.94, 5.13, 8.13, 5.9 , 9.04,\n",
       "       6.06, 7.57, 8.1 , 9.16, 5.84, 7.89, 6.63, 7.09, 5.53, 6.75, 7.62,\n",
       "       6.97, 7.66, 6.14, 7.78, 7.25, 8.65])"
      ]
     },
     "execution_count": 371,
     "metadata": {},
     "output_type": "execute_result"
    }
   ],
   "source": [
    "X_train"
   ]
  },
  {
   "cell_type": "code",
   "execution_count": 372,
   "id": "05f8c6a5",
   "metadata": {},
   "outputs": [
    {
     "data": {
      "text/plain": [
       "(160,)"
      ]
     },
     "execution_count": 372,
     "metadata": {},
     "output_type": "execute_result"
    }
   ],
   "source": [
    "X_train.shape"
   ]
  },
  {
   "cell_type": "code",
   "execution_count": 373,
   "id": "8bb538ba",
   "metadata": {},
   "outputs": [
    {
     "data": {
      "text/plain": [
       "array([8.58, 7.15, 5.88, 6.22, 4.57, 4.79, 5.32, 6.86, 8.35, 6.87, 8.94,\n",
       "       7.9 , 6.93, 5.91, 7.32, 7.82, 5.09, 7.42, 6.94, 7.73, 6.19, 7.28,\n",
       "       6.73, 7.2 , 8.21, 6.75, 7.87, 7.6 , 8.63, 5.12, 8.15, 7.36, 8.31,\n",
       "       6.6 , 6.59, 7.47, 7.93, 6.29, 6.37, 6.47])"
      ]
     },
     "execution_count": 373,
     "metadata": {},
     "output_type": "execute_result"
    }
   ],
   "source": [
    "X_test"
   ]
  },
  {
   "cell_type": "code",
   "execution_count": 374,
   "id": "55b72345",
   "metadata": {},
   "outputs": [
    {
     "data": {
      "text/plain": [
       "(40,)"
      ]
     },
     "execution_count": 374,
     "metadata": {},
     "output_type": "execute_result"
    }
   ],
   "source": [
    "X_test.shape"
   ]
  },
  {
   "cell_type": "markdown",
   "id": "b048231e",
   "metadata": {},
   "source": [
    "# Method-1: Making a class for Linear Regression"
   ]
  },
  {
   "cell_type": "code",
   "execution_count": 375,
   "id": "df113785",
   "metadata": {},
   "outputs": [],
   "source": [
    "class LinReg:\n",
    "    \n",
    "    def __init__(self):\n",
    "        \n",
    "        self.w = None\n",
    "        self.b = None\n",
    "        error = None\n",
    "        \n",
    "    def fit(self, X_train, y_train):\n",
    "            \n",
    "        num = 0\n",
    "        den = 0\n",
    "            \n",
    "        for i in range(X_train.shape[0]):\n",
    "                \n",
    "            num = num + ((X_train[i]-X_train.mean())*(y_train[i]-y_train.mean()))\n",
    "            den = den + ((X_train[i]-X_train.mean())*(X_train[i]-X_train.mean()))\n",
    "                \n",
    "            self.w = num/den\n",
    "            self.b = y_train.mean()-(self.w*X_train.mean())\n",
    "                \n",
    "        print('The value of the parameter w using Class method is',self.w)\n",
    "        print('The value of the parameter b using Class method is',self.b)\n",
    "        \n",
    "        \n",
    "    def predict(self, X_test):\n",
    "        \n",
    "        return self.w*X_test + self.b\n",
    "    \n",
    "    \n",
    "    def mean_squared_error(self, y_test, pred):\n",
    "        \n",
    "        error = np.square(y_test - pred).mean()\n",
    "            \n",
    "        return error"
   ]
  },
  {
   "cell_type": "code",
   "execution_count": 376,
   "id": "31492b08",
   "metadata": {},
   "outputs": [],
   "source": [
    "#Instantiating the class\n",
    "lr = LinReg()"
   ]
  },
  {
   "cell_type": "code",
   "execution_count": 377,
   "id": "4d442812",
   "metadata": {},
   "outputs": [
    {
     "data": {
      "text/plain": [
       "<__main__.LinReg at 0x22d667dfaf0>"
      ]
     },
     "execution_count": 377,
     "metadata": {},
     "output_type": "execute_result"
    }
   ],
   "source": [
    "lr"
   ]
  },
  {
   "cell_type": "code",
   "execution_count": 378,
   "id": "111b1e21",
   "metadata": {},
   "outputs": [
    {
     "name": "stdout",
     "output_type": "stream",
     "text": [
      "The value of the parameter w using Class method is 0.5579519734250721\n",
      "The value of the parameter b using Class method is -0.8961119222429152\n"
     ]
    }
   ],
   "source": [
    "#Calling the defined object\n",
    "lr.fit(X_train, y_train)"
   ]
  },
  {
   "cell_type": "code",
   "execution_count": 379,
   "id": "4f7b6759",
   "metadata": {},
   "outputs": [],
   "source": [
    "#Making the predictions\n",
    "pred = lr.predict(X_test)"
   ]
  },
  {
   "cell_type": "code",
   "execution_count": 380,
   "id": "2838625a",
   "metadata": {},
   "outputs": [
    {
     "data": {
      "text/plain": [
       "array([3.89111601, 3.09324469, 2.38464568, 2.57434935, 1.6537286 ,\n",
       "       1.77647803, 2.07219258, 2.93143862, 3.76278706, 2.93701814,\n",
       "       4.09197872, 3.51170867, 2.97049525, 2.40138424, 3.18809652,\n",
       "       3.46707251, 1.94386362, 3.24389172, 2.97607477, 3.41685683,\n",
       "       2.55761079, 3.16577844, 2.85890486, 3.12114229, 3.68467378,\n",
       "       2.8700639 , 3.49497011, 3.34432308, 3.91901361, 1.96060218,\n",
       "       3.65119666, 3.2104146 , 3.74046898, 2.7863711 , 2.78079158,\n",
       "       3.27178932, 3.52844723, 2.61340599, 2.65804215, 2.71383735])"
      ]
     },
     "execution_count": 380,
     "metadata": {},
     "output_type": "execute_result"
    }
   ],
   "source": [
    "pred"
   ]
  },
  {
   "cell_type": "code",
   "execution_count": 381,
   "id": "3ba5e6e1",
   "metadata": {
    "scrolled": true
   },
   "outputs": [
    {
     "data": {
      "text/plain": [
       "0.12129235313495523"
      ]
     },
     "execution_count": 381,
     "metadata": {},
     "output_type": "execute_result"
    }
   ],
   "source": [
    "#Finding the mean squared error\n",
    "lr.mean_squared_error(y_test, pred)"
   ]
  },
  {
   "cell_type": "markdown",
   "id": "ddbcf031",
   "metadata": {},
   "source": [
    "# Method-2: Using Scikit-Learn "
   ]
  },
  {
   "cell_type": "code",
   "execution_count": 382,
   "id": "f5a6f978",
   "metadata": {},
   "outputs": [],
   "source": [
    "from sklearn.linear_model import LinearRegression"
   ]
  },
  {
   "cell_type": "code",
   "execution_count": 383,
   "id": "da41c6f4",
   "metadata": {},
   "outputs": [],
   "source": [
    "#Instantiating the class\n",
    "lr2 = LinearRegression()"
   ]
  },
  {
   "cell_type": "code",
   "execution_count": 384,
   "id": "243f90f5",
   "metadata": {},
   "outputs": [
    {
     "data": {
      "text/plain": [
       "LinearRegression()"
      ]
     },
     "execution_count": 384,
     "metadata": {},
     "output_type": "execute_result"
    }
   ],
   "source": [
    "lr2"
   ]
  },
  {
   "cell_type": "code",
   "execution_count": 385,
   "id": "27771d8a",
   "metadata": {},
   "outputs": [
    {
     "data": {
      "text/plain": [
       "LinearRegression()"
      ]
     },
     "execution_count": 385,
     "metadata": {},
     "output_type": "execute_result"
    }
   ],
   "source": [
    "lr2.fit(pd.DataFrame(X_train), pd.DataFrame(y_train))"
   ]
  },
  {
   "cell_type": "code",
   "execution_count": 386,
   "id": "bef3948e",
   "metadata": {},
   "outputs": [],
   "source": [
    "pred2 = lr2.predict(pd.DataFrame(X_test))"
   ]
  },
  {
   "cell_type": "code",
   "execution_count": 387,
   "id": "747ab4f7",
   "metadata": {},
   "outputs": [
    {
     "data": {
      "text/plain": [
       "array([[3.89111601],\n",
       "       [3.09324469],\n",
       "       [2.38464568],\n",
       "       [2.57434935],\n",
       "       [1.6537286 ],\n",
       "       [1.77647803],\n",
       "       [2.07219258],\n",
       "       [2.93143862],\n",
       "       [3.76278706],\n",
       "       [2.93701814],\n",
       "       [4.09197872],\n",
       "       [3.51170867],\n",
       "       [2.97049525],\n",
       "       [2.40138424],\n",
       "       [3.18809652],\n",
       "       [3.46707251],\n",
       "       [1.94386362],\n",
       "       [3.24389172],\n",
       "       [2.97607477],\n",
       "       [3.41685683],\n",
       "       [2.55761079],\n",
       "       [3.16577844],\n",
       "       [2.85890486],\n",
       "       [3.12114229],\n",
       "       [3.68467378],\n",
       "       [2.8700639 ],\n",
       "       [3.49497011],\n",
       "       [3.34432308],\n",
       "       [3.91901361],\n",
       "       [1.96060218],\n",
       "       [3.65119666],\n",
       "       [3.2104146 ],\n",
       "       [3.74046898],\n",
       "       [2.7863711 ],\n",
       "       [2.78079158],\n",
       "       [3.27178932],\n",
       "       [3.52844723],\n",
       "       [2.61340599],\n",
       "       [2.65804215],\n",
       "       [2.71383735]])"
      ]
     },
     "execution_count": 387,
     "metadata": {},
     "output_type": "execute_result"
    }
   ],
   "source": [
    "pred2"
   ]
  },
  {
   "cell_type": "code",
   "execution_count": 388,
   "id": "4c48df4d",
   "metadata": {},
   "outputs": [],
   "source": [
    "from sklearn.metrics import mean_squared_error"
   ]
  },
  {
   "cell_type": "code",
   "execution_count": 389,
   "id": "f86e68a6",
   "metadata": {},
   "outputs": [],
   "source": [
    "mse = mean_squared_error(y_test, pred2)"
   ]
  },
  {
   "cell_type": "code",
   "execution_count": 390,
   "id": "957d3dec",
   "metadata": {},
   "outputs": [
    {
     "data": {
      "text/plain": [
       "0.12129235313495527"
      ]
     },
     "execution_count": 390,
     "metadata": {},
     "output_type": "execute_result"
    }
   ],
   "source": [
    "mse"
   ]
  },
  {
   "cell_type": "code",
   "execution_count": 391,
   "id": "c5dc9112",
   "metadata": {},
   "outputs": [
    {
     "name": "stdout",
     "output_type": "stream",
     "text": [
      "The value of the parameter w using Class method is [[0.55795197]]\n",
      "The value of the parameter b using Class method is [-0.89611192]\n"
     ]
    }
   ],
   "source": [
    "print('The value of the parameter w using Class method is',lr2.coef_)\n",
    "print('The value of the parameter b using Class method is',lr2.intercept_)"
   ]
  },
  {
   "cell_type": "code",
   "execution_count": 392,
   "id": "b17ff140",
   "metadata": {},
   "outputs": [
    {
     "data": {
      "image/png": "[encoded data removed]",
      "text/plain": [
       "<Figure size 432x288 with 1 Axes>"
      ]
     },
     "metadata": {
      "needs_background": "light"
     },
     "output_type": "display_data"
    }
   ],
   "source": [
    "#This shows the best fit line chosen\n",
    "plt.scatter(X_test, y_test, color='r')\n",
    "plt.plot(X_test, pred, color = 'g')\n",
    "plt.show()"
   ]
  },
  {
   "cell_type": "markdown",
   "id": "5ea028ba",
   "metadata": {},
   "source": [
    "# Conclusion"
   ]
  },
  {
   "cell_type": "markdown",
   "id": "2bee3396",
   "metadata": {},
   "source": [
    "|Value| |Using Class Method| |Using Scikit-Learn|\n",
    "|-----| |------------------| |------------------|\n",
    "|Parameter w|     |0.5579519734250721| |0.55795197|\n",
    "|Parameter b|     |-0.8961119222429152||-0.89611192|\n",
    "|Ist Prediction|  |3.89111601|         |3.89111601|\n",
    "|Last Prediction| |2.71383735|         |2.71383735|\n",
    "|Mean Squared Error| |0.12129235313495523||0.12129235313495527|"
   ]
  },
  {
   "cell_type": "markdown",
   "id": "6faa7016",
   "metadata": {},
   "source": [
    "1. The results are same for both the cases\n",
    "2. Scikit-Learn's LinearRegression uses 'Closed Form' method to find the relationship between features and targets"
   ]
  },
  {
   "cell_type": "code",
   "execution_count": null,
   "id": "9ce782ce",
   "metadata": {},
   "outputs": [],
   "source": []
  }
 ],
 "metadata": {
  "kernelspec": {
   "display_name": "Python 3 (ipykernel)",
   "language": "python",
   "name": "python3"
  },
  "language_info": {
   "codemirror_mode": {
    "name": "ipython",
    "version": 3
   },
   "file_extension": ".py",
   "mimetype": "text/x-python",
   "name": "python",
   "nbconvert_exporter": "python",
   "pygments_lexer": "ipython3",
   "version": "3.9.12"
  }
 },
 "nbformat": 4,
 "nbformat_minor": 5
}
